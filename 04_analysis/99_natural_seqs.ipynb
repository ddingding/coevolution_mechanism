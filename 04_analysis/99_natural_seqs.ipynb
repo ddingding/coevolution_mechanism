{
 "cells": [
  {
   "cell_type": "markdown",
   "metadata": {},
   "source": [
    "# load data"
   ]
  },
  {
   "cell_type": "code",
   "execution_count": 1,
   "metadata": {},
   "outputs": [
    {
     "name": "stderr",
     "output_type": "stream",
     "text": [
      "/Users/davidding/anaconda3/envs/tf_env/lib/python3.7/site-packages/statsmodels/compat/pandas.py:49: FutureWarning: The Panel class is removed from pandas. Accessing it from the top-level namespace will also be removed in the next version\n",
      "  data_klasses = (pandas.Series, pandas.DataFrame, pandas.Panel)\n",
      "/Users/davidding/anaconda3/envs/tf_env/lib/python3.7/site-packages/dask/config.py:168: YAMLLoadWarning: calling yaml.load() without Loader=... is deprecated, as the default Loader is unsafe. Please read https://msg.pyyaml.org/load for full details.\n",
      "  data = yaml.load(f.read()) or {}\n",
      "/Users/davidding/anaconda3/envs/tf_env/lib/python3.7/site-packages/distributed/config.py:20: YAMLLoadWarning: calling yaml.load() without Loader=... is deprecated, as the default Loader is unsafe. Please read https://msg.pyyaml.org/load for full details.\n",
      "  defaults = yaml.load(f)\n"
     ]
    }
   ],
   "source": [
    "from my_imports import *\n",
    "from collections import Counter\n",
    "import copy\n",
    "import os\n",
    "import natureTools as nt\n",
    "\n",
    "# to use  my own stylimport matplotlib as mpl\n",
    "import matplotlib.pyplot as plt\n",
    "import matplotlib as mpl\n",
    "\n",
    "\n",
    "#load in the ec model\n",
    "\n",
    "#importlib.reload(evcouplings)\n",
    "import evcouplings\n",
    "from evcouplings.couplings import CouplingsModel\n",
    "from evcouplings.mutate import predict_mutation_table, single_mutant_matrix\n",
    "\n",
    "%matplotlib inline\n",
    "from my_imports import *\n",
    "import stanTools\n",
    "import matplotlib.style as style\n",
    "import plotMutationMatrix as pmm\n",
    "import natureTools as nt\n",
    "from mutTools import fasta_iter_py3, hamming\n",
    "from constants import AA_LIST_ALPHABETICAL\n",
    "aa_20 = AA_LIST_ALPHABETICAL[:20]\n",
    "\n",
    "from scipy.stats import pearsonr, spearmanr\n",
    "\n",
    "\n",
    "mpl.rcParams.update(mpl.rcParamsDefault)\n",
    "\n",
    "avb_cols = {'pur':'#5B49B6', \n",
    "            'blu':'#52A4D9', \n",
    "            'tur':'#59C09D',\n",
    "            'tea':'#B3EBAD',\n",
    "            'yel': '#C3D64C',\n",
    "            'gra':'#9B9B9D'}\n",
    "avb_contrast_cols = {\n",
    "    'p': '#C17EFF',\n",
    "    'g': '#75C26A'\n",
    "}\n",
    "plt.style.use('/Users/davidding/PycharmProjects/pareSingleLibrary2/codebase/src/paper_style1.mplstyle')\n",
    "\n"
   ]
  },
  {
   "cell_type": "code",
   "execution_count": 2,
   "metadata": {},
   "outputs": [
    {
     "name": "stdout",
     "output_type": "stream",
     "text": [
      "# of nontoxic mutants in all concentrations 839\n",
      "# of toxin mutants that are toxic in all conditions: 311\n",
      "# of nontoxic mutants in all concentrations 855\n",
      "# of toxin mutants that are toxic in all conditions: 781\n",
      "len of mt_toxins: 310\n",
      "len of ta_toxins 781\n",
      "15\n",
      "15\n",
      "30\n",
      "37\n"
     ]
    },
    {
     "name": "stderr",
     "output_type": "stream",
     "text": [
      "2012_load_data.py:634: SettingWithCopyWarning: \n",
      "A value is trying to be set on a copy of a slice from a DataFrame.\n",
      "Try using .loc[row_indexer,col_indexer] = value instead\n",
      "\n",
      "See the caveats in the documentation: https://pandas.pydata.org/pandas-docs/stable/user_guide/indexing.html#returning-a-view-versus-a-copy\n",
      "  df_muts_mt_wt_toxin['t_pos_pdb'] = df_muts_mt_wt_toxin.t_mut.str[1:-1].astype(int) +1\n",
      "2012_load_data.py:735: SettingWithCopyWarning: \n",
      "A value is trying to be set on a copy of a slice from a DataFrame.\n",
      "Try using .loc[row_indexer,col_indexer] = value instead\n",
      "\n",
      "See the caveats in the documentation: https://pandas.pydata.org/pandas-docs/stable/user_guide/indexing.html#returning-a-view-versus-a-copy\n",
      "  df_curr['at_mut'] = [at] * len(df_curr)\n"
     ]
    }
   ],
   "source": [
    "# load all the data in\n",
    "%run -i 2012_load_data.py"
   ]
  },
  {
   "cell_type": "code",
   "execution_count": 3,
   "metadata": {},
   "outputs": [
    {
     "name": "stdout",
     "output_type": "stream",
     "text": [
      "added so many missing rows to df_longrange 736\n",
      "added so many missing rows to df_longrange 729\n",
      "added so many missing rows to df_longrange 744\n",
      "added so many missing rows to df_longrange 752\n",
      "added so many missing rows to df_longrange 752\n",
      "added so many missing rows to df_longrange 744\n",
      "added so many missing rows to df_longrange 806\n",
      "added so many missing rows to df_longrange 744\n",
      "added so many missing rows to df_longrange 751\n",
      "added so many missing rows to df_longrange 810\n",
      "1389.0\n"
     ]
    },
    {
     "name": "stderr",
     "output_type": "stream",
     "text": [
      "/Users/davidding/PycharmProjects/pareSingleLibrary2/codebase/src/natureTools.py:1466: SettingWithCopyWarning: \n",
      "A value is trying to be set on a copy of a slice from a DataFrame.\n",
      "Try using .loc[row_indexer,col_indexer] = value instead\n",
      "\n",
      "See the caveats in the documentation: https://pandas.pydata.org/pandas-docs/stable/user_guide/indexing.html#returning-a-view-versus-a-copy\n",
      "  df_top['tp_inter'] = tp_inter\n",
      "/Users/davidding/PycharmProjects/pareSingleLibrary2/codebase/src/natureTools.py:1467: SettingWithCopyWarning: \n",
      "A value is trying to be set on a copy of a slice from a DataFrame.\n",
      "Try using .loc[row_indexer,col_indexer] = value instead\n",
      "\n",
      "See the caveats in the documentation: https://pandas.pydata.org/pandas-docs/stable/user_guide/indexing.html#returning-a-view-versus-a-copy\n",
      "  df_top['tp_mono1'] = tp_mono1\n",
      "/Users/davidding/PycharmProjects/pareSingleLibrary2/codebase/src/natureTools.py:1468: SettingWithCopyWarning: \n",
      "A value is trying to be set on a copy of a slice from a DataFrame.\n",
      "Try using .loc[row_indexer,col_indexer] = value instead\n",
      "\n",
      "See the caveats in the documentation: https://pandas.pydata.org/pandas-docs/stable/user_guide/indexing.html#returning-a-view-versus-a-copy\n",
      "  df_top['tp_mono2'] = tp_mono2\n"
     ]
    },
    {
     "name": "stdout",
     "output_type": "stream",
     "text": [
      "1390.0\n",
      "1197.0\n",
      "1189.0\n",
      "1140.0\n",
      "1047.0\n",
      "915.0\n",
      "1410.0\n",
      "1198.0\n",
      "1410.0\n",
      "1198.0\n",
      "added so many missing rows to df_longrange 806\n",
      "915.0\n"
     ]
    }
   ],
   "source": [
    "# load ecs in\n",
    "%run -i 2103_read_ec_files.py"
   ]
  },
  {
   "cell_type": "code",
   "execution_count": 5,
   "metadata": {},
   "outputs": [],
   "source": [
    "\n",
    "indir = '/Users/davidding/Dropbox (HMS)/parESingleLibrary/ex54_coevolution/'\n",
    "# reading my scans in\n",
    "complex_score_dir = indir + 'scan/'\n",
    "c = CouplingsModel(complex_score_dir+'F7YBW7ur_b03_F7YBW8ur_b03_theta08_m80_f80.model')"
   ]
  },
  {
   "cell_type": "code",
   "execution_count": 20,
   "metadata": {},
   "outputs": [],
   "source": [
    "plot_out= '/Users/davidding/PycharmProjects/pareSingleLibrary2/codebase/pairedEnd/x51/2103_out/'\n"
   ]
  },
  {
   "cell_type": "code",
   "execution_count": 6,
   "metadata": {},
   "outputs": [],
   "source": [
    "df_single_mutant_matrix = single_mutant_matrix(c)\n",
    "df_single_mutant_matrix['pos_m0'] = df_single_mutant_matrix.pos -1\n",
    "df_single_mutant_matrix['mutant_m0'] = df_single_mutant_matrix.wt + df_single_mutant_matrix.pos_m0.astype(str) + df_single_mutant_matrix.subs"
   ]
  },
  {
   "cell_type": "code",
   "execution_count": 7,
   "metadata": {},
   "outputs": [],
   "source": [
    "# get raw ali for b03\n",
    "df_seqs = nt.load_df_ali(ali_fin = complex_score_dir + 'F7YBW7ur_b03_F7YBW8ur_b03_theta08_m80_f80.a2m')\n"
   ]
  },
  {
   "cell_type": "code",
   "execution_count": 8,
   "metadata": {},
   "outputs": [
    {
     "name": "stderr",
     "output_type": "stream",
     "text": [
      "2103_read_ec_files.py:1: SettingWithCopyWarning: \n",
      "A value is trying to be set on a copy of a slice from a DataFrame.\n",
      "Try using .loc[row_indexer,col_indexer] = value instead\n",
      "\n",
      "See the caveats in the documentation: https://pandas.pydata.org/pandas-docs/stable/user_guide/indexing.html#returning-a-view-versus-a-copy\n",
      "  import natureTools as nt\n"
     ]
    }
   ],
   "source": [
    "df_muts_singles_mt['aa_mut_ev'] = df_muts_singles_mt.t_mut.apply(lambda t_mut: str(t_mut[0])+str(int(t_mut[1:-1])+1) + t_mut[-1])\n"
   ]
  },
  {
   "cell_type": "code",
   "execution_count": 9,
   "metadata": {},
   "outputs": [],
   "source": [
    "df_ec = bs_to_df['03']\n",
    "df_inters = df_ec.loc[df_ec.segment_i != df_ec.segment_j]"
   ]
  },
  {
   "cell_type": "code",
   "execution_count": 10,
   "metadata": {},
   "outputs": [
    {
     "name": "stdout",
     "output_type": "stream",
     "text": [
      "(11016, 31) (7120, 11) (11016, 47)\n"
     ]
    }
   ],
   "source": [
    "# unpack the muts\n",
    "importlib.reload(nt)\n",
    "df_obs = nt.get_ind_mut_cols(df_merge_mt)\n",
    "\n",
    "# merge on all the observed growth rates\n",
    "df_merge_ec = df_obs.merge(df_inters,how='left', left_on = ['at_aa_pos_m1', 't_aa_pos_m1'], right_on = ['j','i'])\n",
    "print(df_obs.shape, df_inter.shape, df_merge_ec.shape)"
   ]
  },
  {
   "cell_type": "code",
   "execution_count": 11,
   "metadata": {},
   "outputs": [],
   "source": [
    "df_merge_ec['epi'] = df_merge_ec.yobs - df_merge_ec.yhat\n",
    "df_merge_ec['mutkeys'] = df_merge_ec.at_mut+':'+df_merge_ec.t_mut\n",
    "df_resc_low_mt['mutkeys'] = df_resc_low_mt.at_mut+':'+df_resc_low_mt.t_mut\n",
    "df_resc_ec = df_merge_ec.loc[df_merge_ec.mutkeys.isin(df_resc_low_mt.mutkeys)]\n",
    "\n",
    "#merge in the specific or not pair\n",
    "df_merge_mt_l_resc = df_resc_ec.merge(df_merge_all_mt_l_1[['at_mut', 't_mut','sig_epi']], left_on=['at_mut','t_mut'], right_on =['at_mut', 't_mut'])"
   ]
  },
  {
   "cell_type": "code",
   "execution_count": 12,
   "metadata": {},
   "outputs": [],
   "source": [
    "df_merge_ec_del_at = df_merge_ec.loc[df_merge_ec.at_mut.isin(del_at_low05)]"
   ]
  },
  {
   "cell_type": "code",
   "execution_count": 13,
   "metadata": {},
   "outputs": [],
   "source": [
    "# get max epistastic pairs for each antitoxin\n",
    "max_epi_idx = df_merge_ec_del_at.groupby('at_mut').idxmax()['epi']\n",
    "df_max_epi_rows_del_at =df_merge_ec_del_at.loc[max_epi_idx.values]"
   ]
  },
  {
   "cell_type": "code",
   "execution_count": 14,
   "metadata": {},
   "outputs": [],
   "source": [
    "df_merge_obs_smm = df_single_mutant_matrix.merge(df_muts_singles, left_on='mutant_m0', right_on='t_mut')\n",
    "df_merge_obs_smm_mt = df_merge_obs_smm.loc[df_merge_obs_smm.mutant_m0.isin(mt_toxins)]\n"
   ]
  },
  {
   "cell_type": "code",
   "execution_count": 15,
   "metadata": {},
   "outputs": [
    {
     "name": "stderr",
     "output_type": "stream",
     "text": [
      "2103_read_ec_files.py:5: SettingWithCopyWarning: \n",
      "A value is trying to be set on a copy of a slice from a DataFrame.\n",
      "Try using .loc[row_indexer,col_indexer] = value instead\n",
      "\n",
      "See the caveats in the documentation: https://pandas.pydata.org/pandas-docs/stable/user_guide/indexing.html#returning-a-view-versus-a-copy\n",
      "  \n"
     ]
    }
   ],
   "source": [
    "# adding the frequency counts in alignment\n",
    "df_seqs= df_seqs.rename(dict(zip(df_seqs.index, ['template']+ list(df_seqs.index)[1:])))\n",
    "\n",
    "df_merge_obs_smm_mt['count'] = df_merge_obs_smm_mt.apply(\n",
    "    lambda r: int(nt.get_aas_at_pos(df_seqs, 't', r.pos_m0,r.wt)[r.subs]),axis=1)"
   ]
  },
  {
   "cell_type": "code",
   "execution_count": 16,
   "metadata": {},
   "outputs": [],
   "source": [
    "# adding pairwise counts\n",
    "#using the couplings model\n",
    "df_merge_mt['fij_pair'] = df_merge_mt.apply(\n",
    "    lambda r: nt.get_fij_of_mut(c, r.t_aa_pos_m1, r.t_wt_aa, r.t_mut_aa, r.at_aa_pos_m1, r.at_wt_aa, r.at_mut_aa)\n",
    "                                                          ,axis=1)\n",
    "\n",
    "df_merge_mt['jij_pair'] = df_merge_mt.apply(\n",
    "    lambda r: nt.get_jij_of_mut(c, r.t_aa_pos_m1, r.t_wt_aa, r.t_mut_aa, r.at_aa_pos_m1, r.at_wt_aa, r.at_mut_aa)\n",
    "                                                          ,axis=1)\n",
    "df_merge_mt_del_at = df_merge_mt.loc[df_merge_mt.at_mut.isin(del_at_low05)]\n",
    "df_merge_mt_del_at.index = range(len(df_merge_mt_del_at))\n",
    "\n",
    "df_merge_mt_l_resc.columns\n",
    "   \n",
    "df_merge_mt_l_resc['fij_pair'] = df_merge_mt_l_resc.apply(\n",
    "    lambda r: nt.get_fij_of_mut(c, r.t_aa_pos_m1, r.t_wt_aa, r.t_mut_aa, \n",
    "                             r.at_aa_pos_m1, r.at_wt_aa, r.at_mut_aa)\n",
    "                                                          ,axis=1)\n",
    "\n",
    "df_merge_mt_l_resc['jij_pair'] = df_merge_mt_l_resc.apply(\n",
    "    lambda r: nt.get_jij_of_mut(c, r.t_aa_pos_m1, r.t_wt_aa, r.t_mut_aa, \n",
    "                             r.at_aa_pos_m1, r.at_wt_aa, r.at_mut_aa), axis=1)\n",
    "\n",
    "aas = 'ACDEFGHIKLMNPQRSTVWY'                                              \n",
    "# generate some random fij mutations for these pairs of mutations, keeping positions the same but varying the toxin mutation\n",
    "# could also control for toxic toxin mutants\n",
    "fij_bg = []\n",
    "jij_bg = []\n",
    "for n,r in df_merge_mt_l_resc.iterrows():\n",
    "    \n",
    "    for t_mut_aa in aas:\n",
    "        fij = nt.get_fij_of_mut(c, r.t_aa_pos_m1, r.t_wt_aa, t_mut_aa, r.at_aa_pos_m1, r.at_wt_aa, r.at_mut_aa)\n",
    "        fij_bg.append(fij)\n",
    "        \n",
    "        jij = nt.get_jij_of_mut(c, r.t_aa_pos_m1, r.t_wt_aa, t_mut_aa, r.at_aa_pos_m1, r.at_wt_aa, r.at_mut_aa)\n",
    "        jij_bg.append(jij)\n"
   ]
  },
  {
   "cell_type": "code",
   "execution_count": 17,
   "metadata": {},
   "outputs": [
    {
     "name": "stderr",
     "output_type": "stream",
     "text": [
      "2103_read_ec_files.py:9: SettingWithCopyWarning: \n",
      "A value is trying to be set on a copy of a slice from a DataFrame.\n",
      "Try using .loc[row_indexer,col_indexer] = value instead\n",
      "\n",
      "See the caveats in the documentation: https://pandas.pydata.org/pandas-docs/stable/user_guide/indexing.html#returning-a-view-versus-a-copy\n",
      "  #######################################################\n"
     ]
    }
   ],
   "source": [
    "\n",
    "index_names = df_merge_mt_l_resc.loc[df_merge_mt_l_resc.fij_pair != -1].index\n",
    "df_merge_mt_l_resc_no_nan = df_merge_mt_l_resc.iloc[index_names]\n",
    "\n",
    "sum(df_merge_mt_l_resc_no_nan.fij_pair == 0)\n",
    "\n",
    "# get pair_count\n",
    "df_merge_mt_l_resc_no_nan['pair_count']= df_merge_mt_l_resc_no_nan.apply(\n",
    "    lambda r: int(nt.get_aas_at_pos_cond(df_seqs, r.t_aa_pos, r.t_wt_aa,r.at_aa_pos, r.at_wt_aa, r.at_mut_aa)[r.t_mut_aa]), axis=1)\n"
   ]
  },
  {
   "cell_type": "code",
   "execution_count": 18,
   "metadata": {},
   "outputs": [
    {
     "name": "stderr",
     "output_type": "stream",
     "text": [
      "2103_read_ec_files.py:7: SettingWithCopyWarning: \n",
      "A value is trying to be set on a copy of a slice from a DataFrame.\n",
      "Try using .loc[row_indexer,col_indexer] = value instead\n",
      "\n",
      "See the caveats in the documentation: https://pandas.pydata.org/pandas-docs/stable/user_guide/indexing.html#returning-a-view-versus-a-copy\n",
      "  ########### load in ecs\n",
      "2103_read_ec_files.py:12: SettingWithCopyWarning: \n",
      "A value is trying to be set on a copy of a slice from a DataFrame.\n",
      "Try using .loc[row_indexer,col_indexer] = value instead\n",
      "\n",
      "See the caveats in the documentation: https://pandas.pydata.org/pandas-docs/stable/user_guide/indexing.html#returning-a-view-versus-a-copy\n",
      "  df_ec_03 = pd.read_csv(ec_din+ 'ecouplings_b03_complex.csv')\n",
      "2103_read_ec_files.py:13: SettingWithCopyWarning: \n",
      "A value is trying to be set on a copy of a slice from a DataFrame.\n",
      "Try using .loc[row_indexer,col_indexer] = value instead\n",
      "\n",
      "See the caveats in the documentation: https://pandas.pydata.org/pandas-docs/stable/user_guide/indexing.html#returning-a-view-versus-a-copy\n",
      "  df_ec_03_inters = df_ec_03.loc[df_ec_03.segment_i != df_ec_03.segment_j]\n",
      "2103_read_ec_files.py:17: SettingWithCopyWarning: \n",
      "A value is trying to be set on a copy of a slice from a DataFrame.\n",
      "Try using .loc[row_indexer,col_indexer] = value instead\n",
      "\n",
      "See the caveats in the documentation: https://pandas.pydata.org/pandas-docs/stable/user_guide/indexing.html#returning-a-view-versus-a-copy\n",
      "  # load the coevolving pairs in\n"
     ]
    },
    {
     "data": {
      "text/plain": [
       "\"\\n#division by zero issue\\ndf_merge_mt_l_resc_no_nan['freq_t_given_at_cond']= df_merge_mt_l_resc_no_nan.apply(\\n    lambda r: (float((nt.get_aas_at_pos_cond(df_seqs, r.t_aa_pos, r.t_wt_aa,\\n                                    r.at_aa_pos, r.at_wt_aa, r.at_mut_aa)[r.t_mut_aa]))/\\n              len(df_seqs))/\\n    r.T_freq,\\n    axis=1)\\n\""
      ]
     },
     "execution_count": 18,
     "metadata": {},
     "output_type": "execute_result"
    }
   ],
   "source": [
    "\n",
    "# frequency. of T* given AT* among all possible aas at that position\n",
    "df_merge_mt_l_resc_no_nan['freq_t_given_at_cond']= df_merge_mt_l_resc_no_nan.apply(\n",
    "    lambda r: float((nt.get_aas_at_pos_cond(df_seqs, r.t_aa_pos, r.t_wt_aa,\n",
    "                                        r.at_aa_pos, r.at_wt_aa, r.at_mut_aa)[r.t_mut_aa]))/\n",
    "    len(df_seqs),\n",
    "    axis=1)\n",
    "\n",
    "\n",
    "# normalized to T* frequency\n",
    "df_merge_mt_l_resc_no_nan['T_count'] = df_merge_mt_l_resc_no_nan.apply(\n",
    "    lambda r: int(nt.get_aas_at_pos(df_seqs, 't', r.t_aa_pos,r.t_wt_aa)[r.t_mut_aa]),axis=1)\n",
    "df_merge_mt_l_resc_no_nan['T_freq'] = df_merge_mt_l_resc_no_nan.T_count.astype(float)/ len(df_seqs)\n",
    "\n",
    "df_merge_mt_l_resc_no_nan['freq_t_given_at_cond_norm_t_freq'] = df_merge_mt_l_resc_no_nan.apply(\n",
    "    lambda r: r.freq_t_given_at_cond/r.T_freq if r.T_freq != 0 else np.nan,\n",
    "    axis=1\n",
    ")"
   ]
  },
  {
   "cell_type": "markdown",
   "metadata": {},
   "source": [
    "# fig5C covariation scores"
   ]
  },
  {
   "cell_type": "code",
   "execution_count": 31,
   "metadata": {},
   "outputs": [
    {
     "name": "stderr",
     "output_type": "stream",
     "text": [
      "/Users/davidding/anaconda3/envs/tf_env/lib/python3.7/site-packages/numpy/lib/histograms.py:829: RuntimeWarning: invalid value encountered in greater_equal\n",
      "  keep = (tmp_a >= first_edge)\n",
      "/Users/davidding/anaconda3/envs/tf_env/lib/python3.7/site-packages/numpy/lib/histograms.py:830: RuntimeWarning: invalid value encountered in less_equal\n",
      "  keep &= (tmp_a <= last_edge)\n"
     ]
    },
    {
     "data": {
      "image/png": "[encoded data removed]",
      "text/plain": [
       "<Figure size 216x144 with 1 Axes>"
      ]
     },
     "metadata": {
      "needs_background": "light"
     },
     "output_type": "display_data"
    }
   ],
   "source": [
    "# for cn score\n",
    "fig =plt.figure(figsize=(3,2))\n",
    "bins=30\n",
    "n, bins, patches = plt.hist(df_merge_ec.cn, \n",
    "                            density=True, alpha=1, bins=bins, \n",
    "                            color='black', \n",
    "                            histtype='step',\n",
    "                            log=False)\n",
    "\n",
    "df_resc_toxins = df_merge_ec.loc[df_merge_ec.t_mut.isin(df_resc_ec.t_mut)]\n",
    "plt.hist(df_resc_toxins.cn, density=True, alpha=0.9, bins=bins, \n",
    "         color='#1a759f',\n",
    "         histtype='stepfilled')\n",
    "#plt.title('covariation scores of rescuing toxins')\n",
    "\n",
    "\n",
    "fig.patch.set_visible('False')\n",
    "plt.savefig(plot_out + 'covar_ben_vs_all_cn.svg', format='svg')\n",
    "plt.savefig(plot_out + 'covar_ben_vs_all_cn.pdf', format='pdf')\n",
    "\n",
    "plt.show()"
   ]
  },
  {
   "cell_type": "markdown",
   "metadata": {},
   "source": [
    "# fig 5D correlation sitewise"
   ]
  },
  {
   "cell_type": "code",
   "execution_count": 28,
   "metadata": {},
   "outputs": [
    {
     "name": "stdout",
     "output_type": "stream",
     "text": [
      "(-0.10047768840123394, 0.16665983130127118)\n",
      "SpearmanrResult(correlation=-0.04410966850223283, pvalue=0.5445804227194917)\n"
     ]
    },
    {
     "data": {
      "image/png": "[encoded data removed]",
      "text/plain": [
       "<Figure size 216x144 with 1 Axes>"
      ]
     },
     "metadata": {
      "needs_background": "light"
     },
     "output_type": "display_data"
    }
   ],
   "source": [
    "# correlation between beneficial independent effect and frequency?\n",
    "# for most toxic mutants\n",
    "fig = plt.figure(figsize=(3,2))\n",
    "\n",
    "df_pos = df_merge_obs_smm_mt.loc[df_merge_obs_smm_mt.linear_latent_from_wt >0]\n",
    "df_neg = df_merge_obs_smm_mt.loc[df_merge_obs_smm_mt.linear_latent_from_wt <=0]\n",
    "\n",
    "x=df_pos.linear_latent_from_wt\n",
    "y= df_pos['count']\n",
    "plt.scatter(x,y, s=2, c='black', alpha=0.5)\n",
    "\n",
    "\n",
    "x=df_neg.linear_latent_from_wt\n",
    "y= df_neg['count']\n",
    "plt.scatter(x,y, s=2, c='black', alpha=0.5)\n",
    "\n",
    "\n",
    "plt.axvline(0, c='black', linewidth=0.5, linestyle='dotted')\n",
    "print(pearsonr(x,y))\n",
    "print(spearmanr(x,y))\n",
    "#plt.xlabel('independent efx')\n",
    "#plt.ylabel('# of times observed in alignment')\n",
    "#plt.title('most toxic inferred toxin singles')\n",
    "\n",
    "fig.patch.set_visible('False')\n",
    "\n",
    "plt.savefig(plot_out + 'indep_sitewise.svg', format='svg')\n",
    "plt.savefig(plot_out + 'indep_sitewise.pdf', format='pdf')\n",
    "\n",
    "plt.show()"
   ]
  },
  {
   "cell_type": "markdown",
   "metadata": {},
   "source": [
    "# suppl independent"
   ]
  },
  {
   "cell_type": "code",
   "execution_count": 34,
   "metadata": {},
   "outputs": [
    {
     "data": {
      "image/png": "[encoded data removed]",
      "text/plain": [
       "<Figure size 144x144 with 1 Axes>"
      ]
     },
     "metadata": {
      "needs_background": "light"
     },
     "output_type": "display_data"
    }
   ],
   "source": [
    "plt.figure(figsize=(2,2))\n",
    "n, bins, patches= plt.hist(df_merge_obs_smm_mt.loc[df_merge_obs_smm_mt.linear_latent_from_wt > 0]['count'],\n",
    "        density=True,\n",
    "        label='independent beneficial toxins', \n",
    "         alpha=0.9,\n",
    "        bins=20, color=avb_cols['pur'])\n",
    "plt.hist(df_merge_obs_smm_mt['count'], density=True, label='all toxic T*', alpha=0.5, bins=bins, color='grey')\n",
    "\n",
    "ax = plt.gca()\n",
    "ax.tick_params(axis = 'both', which = 'major', labelsize = 8)\n",
    "\n",
    "#plt.xlabel('number of times mutation observed in alignment')\n",
    "#plt.ylabel('density')\n",
    "\n",
    "#plt.legend()\n",
    "plt.savefig(plot_out + 'indep_mut_beneficial_count.svg', format='svg')"
   ]
  },
  {
   "cell_type": "code",
   "execution_count": 25,
   "metadata": {},
   "outputs": [
    {
     "data": {
      "image/png": "[encoded data removed]",
      "text/plain": [
       "<Figure size 144x144 with 1 Axes>"
      ]
     },
     "metadata": {
      "needs_background": "light"
     },
     "output_type": "display_data"
    }
   ],
   "source": [
    "plt.figure(figsize=(2,2))\n",
    "plt.hist(df_merge_mt_l_resc_no_nan.pair_count, bins=50, color=avb_cols['pur'])\n",
    "ax = plt.gca()\n",
    "ax.tick_params(axis = 'both', which = 'major', labelsize = 8)\n",
    "#plt.xlabel('number of times pair observed')\n",
    "#plt.ylabel('number of beneficial pairs')\n",
    "plt.savefig(plot_out + 'pair_counts_obs.svg', format='svg')\n",
    "#plt.show()"
   ]
  },
  {
   "cell_type": "code",
   "execution_count": 27,
   "metadata": {},
   "outputs": [
    {
     "data": {
      "image/png": "[encoded data removed]",
      "text/plain": [
       "<Figure size 144x144 with 1 Axes>"
      ]
     },
     "metadata": {
      "needs_background": "light"
     },
     "output_type": "display_data"
    }
   ],
   "source": [
    "plt.figure(figsize=(2,2))\n",
    "plt.scatter(df_merge_mt_l_resc_no_nan.mean_fit, df_merge_mt_l_resc_no_nan.fij_pair, s=5)\n",
    "ax = plt.gca()\n",
    "ax.tick_params(axis = 'both', which = 'major', labelsize = 8)\n",
    "plt.axhline(0, color='black')\n",
    "#plt.xlabel('toxin rescues')\n",
    "#plt.ylabel('fraction of mutation pair in alignment')\n",
    "plt.savefig(plot_out + 'pair_rescue_vs_frequency_ali.svg', format='svg')"
   ]
  },
  {
   "cell_type": "code",
   "execution_count": 28,
   "metadata": {},
   "outputs": [
    {
     "data": {
      "image/png": "[encoded data removed]",
      "text/plain": [
       "<Figure size 144x144 with 1 Axes>"
      ]
     },
     "metadata": {
      "needs_background": "light"
     },
     "output_type": "display_data"
    }
   ],
   "source": [
    "plt.figure(figsize=(2,2))\n",
    "plt.scatter(df_merge_mt_l_resc_no_nan.mean_fit, df_merge_mt_l_resc_no_nan.freq_t_given_at_cond, s=5)\n",
    "ax = plt.gca()\n",
    "ax.tick_params(axis = 'both', which = 'major', labelsize = 8)\n",
    "plt.axhline(0, color='black')\n",
    "#plt.xlabel('rescue')\n",
    "#plt.ylabel('conditional frequency T* | AT*=ATmut')\n",
    "#plt.title('conditional frequency. T*|AT*=ATmut')\n",
    "plt.savefig(plot_out + 'cond_freq_beneficial.svg', format='svg')\n",
    "plt.show()"
   ]
  },
  {
   "cell_type": "code",
   "execution_count": 29,
   "metadata": {},
   "outputs": [
    {
     "data": {
      "image/png": "[encoded data removed]",
      "text/plain": [
       "<Figure size 144x144 with 1 Axes>"
      ]
     },
     "metadata": {
      "needs_background": "light"
     },
     "output_type": "display_data"
    }
   ],
   "source": [
    "plt.figure(figsize=(2,2))\n",
    "plt.scatter(df_merge_mt_l_resc_no_nan.mean_fit, \n",
    "            df_merge_mt_l_resc_no_nan.freq_t_given_at_cond_norm_t_freq, \n",
    "           s=5)\n",
    "plt.axhline(0, color='black')\n",
    "ax = plt.gca()\n",
    "ax.tick_params(axis = 'both', which = 'major', labelsize = 8)\n",
    "#plt.xlabel('rescue')\n",
    "#plt.ylabel('enrichment freq(T* | AT*=ATmut) / freq(T*)')\n",
    "#plt.title('enrichment in conditional frequency over background freq(T*|AT*=ATmut)/freq(T*))')\n",
    "plt.savefig(plot_out + 'enrich_cond_freq_beneficial.svg', format='svg')\n",
    "\n",
    "plt.show()"
   ]
  },
  {
   "cell_type": "code",
   "execution_count": 35,
   "metadata": {},
   "outputs": [
    {
     "data": {
      "image/png": "[encoded data removed]",
      "text/plain": [
       "<Figure size 144x144 with 1 Axes>"
      ]
     },
     "metadata": {
      "needs_background": "light"
     },
     "output_type": "display_data"
    }
   ],
   "source": [
    "# plot jij distirbutions\n",
    "plt.figure(figsize=(2,2))\n",
    "bins=20\n",
    "\n",
    "\n",
    "n, bins, patches = plt.hist([v for v in jij_bg if v != -1], \n",
    "                            density=True, bins=bins, alpha=0.5, \n",
    "                            #log=True, \n",
    "                            label='null pairwise frequencies', color='grey')\n",
    "\n",
    "plt.hist([v for v in df_merge_mt_l_resc.jij_pair if v != -1], \n",
    "         bins=bins, density=True, alpha=0.5, \n",
    "         #log=True, \n",
    "         label='rescuing pairwise frequencies', color=avb_cols['pur'])\n",
    "\n",
    "ax = plt.gca()\n",
    "ax.tick_params(axis = 'both', which = 'major', labelsize = 8)\n",
    "\n",
    "#plt.xlabel('inferred pairwise preference from evCouplings')\n",
    "#plt.title('does evCouplings infer pairwise preferences of rescuing mutation pairs?')\n",
    "#plt.legend()\n",
    "plt.savefig(plot_out + 'jij_beneficial.svg', format='svg')\n",
    "\n",
    "plt.show()\n"
   ]
  },
  {
   "cell_type": "code",
   "execution_count": 36,
   "metadata": {},
   "outputs": [
    {
     "name": "stdout",
     "output_type": "stream",
     "text": [
      "(0.2602431195698318, 2.392607977130657e-05)\n",
      "SpearmanrResult(correlation=0.24861155099086052, pvalue=5.588032991417044e-05)\n"
     ]
    },
    {
     "data": {
      "image/png": "[encoded data removed]",
      "text/plain": [
       "<Figure size 144x144 with 1 Axes>"
      ]
     },
     "metadata": {
      "needs_background": "light"
     },
     "output_type": "display_data"
    }
   ],
   "source": [
    "# adding ev couplings predictions\n",
    "df_all_preds = pd.DataFrame()\n",
    "for col in ['linear_latent_from_wt']:\n",
    "    suffix = col.split('_')[0]\n",
    "    df_tmp = df_muts_singles_mt[['aa_mut_ev', col]]\n",
    "    df_tmp = df_tmp.rename(columns = {'aa_mut_ev':'mutant'})\n",
    "    df_pred  = predict_mutation_table(c, df_tmp, 'effect_prediction_epi_only_'+suffix, hamiltonian = 'couplings') # need to change this.\n",
    "    if df_all_preds.empty:\n",
    "        df_all_preds = df_pred\n",
    "    else:\n",
    "        df_all_preds = df_all_preds.merge(df_pred, on='mutant')\n",
    "        \n",
    "\n",
    "plt.figure(figsize=(2,2))\n",
    "plt.scatter(df_all_preds.linear_latent_from_wt, \n",
    "            df_all_preds.effect_prediction_epi_only_linear,\n",
    "           c='black', \n",
    "           s=5)\n",
    "\n",
    "ax = plt.gca()\n",
    "ax.tick_params(axis = 'both', which = 'major', labelsize = 8)\n",
    "\n",
    "plt.axvline(0, color='black')\n",
    "df_all_preds_no_nan = df_all_preds.dropna()\n",
    "print(pearsonr(df_all_preds_no_nan.linear_latent_from_wt, df_all_preds_no_nan.effect_prediction_epi_only_linear))\n",
    "print(spearmanr(df_all_preds_no_nan.linear_latent_from_wt, df_all_preds_no_nan.effect_prediction_epi_only_linear))\n",
    "\n",
    "#plt.xlabel('linear effect in nonlinear model')\n",
    "#plt.ylabel('sitewise ev couplings prediction of single mutant')\n",
    "plt.savefig(plot_out + 'nonlienar_effects_vs_evcouplings_epi_only.svg', format='svg')\n",
    "plt.show()"
   ]
  },
  {
   "cell_type": "code",
   "execution_count": 37,
   "metadata": {},
   "outputs": [
    {
     "data": {
      "image/png": "[encoded data removed]",
      "text/plain": [
       "<Figure size 144x144 with 1 Axes>"
      ]
     },
     "metadata": {
      "needs_background": "light"
     },
     "output_type": "display_data"
    }
   ],
   "source": [
    "plt.figure(figsize=(2,2))\n",
    "plt.scatter(df_merge_mt_l_resc_no_nan.mean_fit, df_merge_mt_l_resc_no_nan.jij_pair, s=5)\n",
    "plt.axhline(0, color='black')\n",
    "\n",
    "ax = plt.gca()\n",
    "ax.tick_params(axis = 'both', which = 'major', labelsize = 8)\n",
    "\n",
    "#plt.xlabel('toxin rescues')\n",
    "#plt.ylabel('jij ')\n",
    "plt.savefig(plot_out + 'delta_gr_vs_jij.svg', format='svg')\n",
    "\n",
    "plt.show()"
   ]
  }
 ],
 "metadata": {
  "kernelspec": {
   "display_name": "Python 3",
   "language": "python",
   "name": "python3"
  },
  "language_info": {
   "codemirror_mode": {
    "name": "ipython",
    "version": 3
   },
   "file_extension": ".py",
   "mimetype": "text/x-python",
   "name": "python",
   "nbconvert_exporter": "python",
   "pygments_lexer": "ipython3",
   "version": "3.7.3"
  },
  "toc-autonumbering": true,
  "toc-showcode": false,
  "toc-showmarkdowntxt": false
 },
 "nbformat": 4,
 "nbformat_minor": 2
}
